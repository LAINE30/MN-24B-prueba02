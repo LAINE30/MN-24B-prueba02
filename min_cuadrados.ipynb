{
 "cells": [
  {
   "cell_type": "markdown",
   "metadata": {},
   "source": [
    "# Mínimos cuadrados\n",
    "## Prueba 02\n",
    "Interpole los siguientes conjuntos de datos con la función correspondiente. "
   ]
  },
  {
   "cell_type": "markdown",
   "metadata": {},
   "source": [
    "La ecuación de la línea es:\n",
    "\n",
    "$ y(x) = a_1 x + a_0 $\n",
    "\n",
    "Al realizar el proceso de mínimos cuadrados queda el siguiente sistema de ecuaciones:\n",
    "\n",
    "\n",
    "$( \\sum_i (y_i - a_1 x_i - a_0) , \\sum_i (y_i - a_1 x_i - a_0)x_i ) = 0$"
   ]
  },
  {
   "cell_type": "code",
   "execution_count": 39,
   "metadata": {},
   "outputs": [
    {
     "ename": "ValueError",
     "evalue": "El sistema no tiene soluciones reales.",
     "output_type": "error",
     "traceback": [
      "\u001b[1;31m---------------------------------------------------------------------------\u001b[0m",
      "\u001b[1;31mValueError\u001b[0m                                Traceback (most recent call last)",
      "Cell \u001b[1;32mIn[39], line 114\u001b[0m\n\u001b[0;32m    110\u001b[0m         a_0 \u001b[38;5;241m=\u001b[39m (cind_0 \u001b[38;5;241m-\u001b[39m c1_0 \u001b[38;5;241m*\u001b[39m a_1) \u001b[38;5;241m/\u001b[39m c0_0\n\u001b[0;32m    112\u001b[0m     \u001b[38;5;28;01mreturn\u001b[39;00m a_0, a_1\n\u001b[1;32m--> 114\u001b[0m a_0, a_1 \u001b[38;5;241m=\u001b[39m \u001b[43mresolver_sistema\u001b[49m\u001b[43m(\u001b[49m\u001b[43mxs\u001b[49m\u001b[43m,\u001b[49m\u001b[43m \u001b[49m\u001b[43mys\u001b[49m\u001b[43m)\u001b[49m\n\u001b[0;32m    115\u001b[0m \u001b[38;5;28mprint\u001b[39m(\u001b[38;5;124mf\u001b[39m\u001b[38;5;124m\"\u001b[39m\u001b[38;5;124mEl valor de a_0 (intercepto) es: \u001b[39m\u001b[38;5;132;01m{\u001b[39;00ma_0\u001b[38;5;132;01m}\u001b[39;00m\u001b[38;5;124m\"\u001b[39m)\n\u001b[0;32m    116\u001b[0m \u001b[38;5;28mprint\u001b[39m(\u001b[38;5;124mf\u001b[39m\u001b[38;5;124m\"\u001b[39m\u001b[38;5;124mEl valor de a_1 (pendiente) es: \u001b[39m\u001b[38;5;132;01m{\u001b[39;00ma_1\u001b[38;5;132;01m}\u001b[39;00m\u001b[38;5;124m\"\u001b[39m)\n",
      "Cell \u001b[1;32mIn[39], line 102\u001b[0m, in \u001b[0;36mresolver_sistema\u001b[1;34m(xs, ys)\u001b[0m\n\u001b[0;32m    100\u001b[0m discriminante \u001b[38;5;241m=\u001b[39m B\u001b[38;5;241m*\u001b[39m\u001b[38;5;241m*\u001b[39m\u001b[38;5;241m2\u001b[39m \u001b[38;5;241m-\u001b[39m \u001b[38;5;241m4\u001b[39m \u001b[38;5;241m*\u001b[39m A \u001b[38;5;241m*\u001b[39m C\n\u001b[0;32m    101\u001b[0m \u001b[38;5;28;01mif\u001b[39;00m discriminante \u001b[38;5;241m<\u001b[39m \u001b[38;5;241m0\u001b[39m:\n\u001b[1;32m--> 102\u001b[0m     \u001b[38;5;28;01mraise\u001b[39;00m \u001b[38;5;167;01mValueError\u001b[39;00m(\u001b[38;5;124m\"\u001b[39m\u001b[38;5;124mEl sistema no tiene soluciones reales.\u001b[39m\u001b[38;5;124m\"\u001b[39m)\n\u001b[0;32m    104\u001b[0m a_1 \u001b[38;5;241m=\u001b[39m (\u001b[38;5;241m-\u001b[39mB \u001b[38;5;241m+\u001b[39m math\u001b[38;5;241m.\u001b[39msqrt(discriminante)) \u001b[38;5;241m/\u001b[39m (\u001b[38;5;241m2\u001b[39m \u001b[38;5;241m*\u001b[39m A)\n\u001b[0;32m    106\u001b[0m \u001b[38;5;66;03m# Usar a_1 para encontrar a_0\u001b[39;00m\n",
      "\u001b[1;31mValueError\u001b[0m: El sistema no tiene soluciones reales."
     ]
    }
   ],
   "source": [
    "# Derivadas parciales para regresión lineal\n",
    "# ####################################################################\n",
    "def der_parcial_1(xs: list, ys: list) -> tuple[float, float, float]:\n",
    "    \"\"\"Retorna los coeficientes de la ecuación de la derivada parcial con respecto al parámetro 1 al reemplazar los valores ``xs`` y ``ys``. La ecuación es de la forma:\n",
    "    c_1 * a_1 + c_0 * a_0 = c_ind\n",
    "\n",
    "\n",
    "    ## Parameters\n",
    "\n",
    "    ``xs``: lista de valores de x.\n",
    "\n",
    "    ``ys``: lista de valores de y.\n",
    "\n",
    "    ## Return\n",
    "\n",
    "    ``c_1``: coeficiente del parámetro 1.\n",
    "\n",
    "    ``c_0``: coeficiente del parámetro 0.\n",
    "\n",
    "    ``c_ind``: coeficiente del término independiente.\n",
    "\n",
    "    \"\"\"\n",
    "\n",
    "    # coeficiente del término independiente\n",
    "    c_ind = sum(ys)\n",
    "\n",
    "    # coeficiente del parámetro 1\n",
    "    c_1 = sum(xs)\n",
    "\n",
    "    # coeficiente del parámetro 0\n",
    "    c_0 = len(xs)\n",
    "\n",
    "    return (c_1, c_0, c_ind)\n",
    "\n",
    "\n",
    "def der_parcial_0(xs: list, ys: list) -> tuple[float, float, float]:\n",
    "    \"\"\"Retorna los coeficientes de la ecuación de la derivada parcial con respecto al parámetro 0 al reemplazar los valores ``xs`` y ``ys``. La ecuación es de la forma:\n",
    "    c_1 * a_1 + c_0 * a_0 = c_ind\n",
    "\n",
    "\n",
    "    ## Parameters\n",
    "\n",
    "    ``xs``: lista de valores de x.\n",
    "\n",
    "    ``ys``: lista de valores de y.\n",
    "\n",
    "    ## Return\n",
    "\n",
    "    ``c_1``: coeficiente del parámetro 1.\n",
    "\n",
    "    ``c_0``: coeficiente del parámetro 0.\n",
    "\n",
    "    ``c_ind``: coeficiente del término independiente.\n",
    "\n",
    "    \"\"\"\n",
    "    c_1 = 0\n",
    "    c_0 = 0\n",
    "    c_ind = 0\n",
    "    for xi, yi in zip(xs, ys):\n",
    "        # coeficiente del término independiente\n",
    "        c_ind += xi * yi\n",
    "\n",
    "        # coeficiente del parámetro 1\n",
    "        c_1 += xi * xi\n",
    "\n",
    "        # coeficiente del parámetro 0\n",
    "        c_0 += xi\n",
    "\n",
    "    return (c_1, c_0, c_ind)\n",
    "\n",
    "def resolver_sistema(xs: list, ys: list) -> tuple[float, float]:\n",
    "    \"\"\"\n",
    "    Resuelve el sistema de ecuaciones generado por las derivadas parciales\n",
    "    para obtener los parámetros a_0 (intercepto) y a_1 (pendiente) de la\n",
    "    regresión lineal.\n",
    "\n",
    "    Parameters\n",
    "    ----------\n",
    "    xs: lista de valores de x.\n",
    "    ys: lista de valores de y.\n",
    "\n",
    "    Returns\n",
    "    -------\n",
    "    a_0: Intercepto de la recta.\n",
    "    a_1: Pendiente de la recta.\n",
    "    \"\"\"\n",
    "    # Obtener coeficientes de las dos ecuaciones\n",
    "    c1_1, c0_1, cind_1 = der_parcial_1(xs, ys)\n",
    "    c1_0, c0_0, cind_0 = der_parcial_0(xs, ys)\n",
    "\n",
    "    # Formar la ecuación cuadrática para resolver a_1\n",
    "    A = c1_1 * c1_0 - c1_0 * c0_1\n",
    "    B = c1_1 * cind_0 - cind_1 * c1_0\n",
    "    C = cind_1 * c0_0 - c0_1 * cind_0\n",
    "\n",
    "    if A == 0:  # Caso lineal\n",
    "        raise ValueError(\"El sistema no es válido para una solución cuadrática.\")\n",
    "\n",
    "    # Fórmula cuadrática para resolver a_1\n",
    "    discriminante = B**2 - 4 * A * C\n",
    "    if discriminante < 0:\n",
    "        raise ValueError(\"El sistema no tiene soluciones reales.\")\n",
    "\n",
    "    a_1 = (-B + math.sqrt(discriminante)) / (2 * A)\n",
    "\n",
    "    # Usar a_1 para encontrar a_0\n",
    "    if c1_1 != 0:\n",
    "        a_0 = (cind_1 - c1_1 * a_1) / c0_1\n",
    "    else:\n",
    "        a_0 = (cind_0 - c1_0 * a_1) / c0_0\n",
    "\n",
    "    return a_0, a_1\n",
    "\n",
    "a_0, a_1 = resolver_sistema(xs, ys)\n",
    "print(f\"El valor de a_0 (intercepto) es: {a_0}\")\n",
    "print(f\"El valor de a_1 (pendiente) es: {a_1}\")"
   ]
  },
  {
   "cell_type": "markdown",
   "metadata": {},
   "source": [
    "# Conjunto de datos de ejemplo"
   ]
  },
  {
   "cell_type": "code",
   "execution_count": null,
   "metadata": {},
   "outputs": [],
   "source": [
    "xs = [\n",
    "    -5.0000,\n",
    "    -3.8889,\n",
    "    -2.7778,\n",
    "    -1.6667,\n",
    "    -0.5556,\n",
    "    0.5556,\n",
    "    1.6667,\n",
    "    2.7778,\n",
    "    3.8889,\n",
    "    5.0000,\n",
    "]\n",
    "ys = [\n",
    "    -12.7292,\n",
    "    -7.5775,\n",
    "    -7.7390,\n",
    "    -4.1646,\n",
    "    -4.5382,\n",
    "    2.2048,\n",
    "    4.3369,\n",
    "    2.2227,\n",
    "    9.0625,\n",
    "    7.1860,\n",
    "]\n",
    "\n",
    "\n"
   ]
  },
  {
   "cell_type": "code",
   "execution_count": 8,
   "metadata": {},
   "outputs": [
    {
     "name": "stdout",
     "output_type": "stream",
     "text": [
      "[01-11 11:55:32][INFO] Se ajustarán 2 parámetros.\n",
      "[01-11 11:55:32][INFO] \n",
      "[[101.8525926    0.         209.87476711]\n",
      " [  0.          10.         -11.7356    ]]\n"
     ]
    }
   ],
   "source": [
    "from src import ajustar_min_cuadrados  # no modificar esta función\n",
    "\n",
    "pars = ajustar_min_cuadrados(xs, ys, gradiente=[der_parcial_0, der_parcial_1])"
   ]
  },
  {
   "cell_type": "code",
   "execution_count": 9,
   "metadata": {},
   "outputs": [
    {
     "name": "stdout",
     "output_type": "stream",
     "text": [
      "[01-11 11:55:32][INFO] Se ajustarán 2 parámetros.\n",
      "[01-11 11:55:32][INFO] \n",
      "[[101.8525926    0.         209.87476711]\n",
      " [  0.          10.         -11.7356    ]]\n"
     ]
    },
    {
     "data": {
      "image/png": "[encoded data removed]",
      "text/plain": [
       "<Figure size 640x480 with 1 Axes>"
      ]
     },
     "metadata": {},
     "output_type": "display_data"
    }
   ],
   "source": [
    "import numpy as np\n",
    "import matplotlib.pyplot as plt\n",
    "\n",
    "m, b = ajustar_min_cuadrados(xs, ys, gradiente=[der_parcial_0, der_parcial_1])\n",
    "\n",
    "x = np.linspace(-5, 5, 100)\n",
    "\n",
    "y = [m * xi + b for xi in x]\n",
    "\n",
    "plt.scatter(xs, ys, label=\"Datos\")\n",
    "plt.plot(x, y, color=\"red\", label=r\"$ y = a_1 x + a_0 $\")\n",
    "plt.xlabel(\"x\")\n",
    "plt.ylabel(\"y\")\n",
    "plt.title(\"Ajuste por mínimos cuadrados para conjunto de datos de ejemplo\")\n",
    "plt.legend()\n",
    "plt.show()"
   ]
  },
  {
   "cell_type": "markdown",
   "metadata": {},
   "source": [
    "## Conjunto de datos 1"
   ]
  },
  {
   "cell_type": "code",
   "execution_count": 38,
   "metadata": {},
   "outputs": [],
   "source": [
    "xs1 = [\n",
    "    -5.0000,\n",
    "    -3.8889,\n",
    "    -2.7778,\n",
    "    -1.6667,\n",
    "    -0.5556,\n",
    "    0.5556,\n",
    "    1.6667,\n",
    "    2.7778,\n",
    "    3.8889,\n",
    "    5.0000,\n",
    "]\n",
    "ys1 = [\n",
    "    57.2441,\n",
    "    33.0303,\n",
    "    16.4817,\n",
    "    7.0299,\n",
    "    0.5498,\n",
    "    0.7117,\n",
    "    3.4185,\n",
    "    12.1767,\n",
    "    24.9167,\n",
    "    44.2495,\n",
    "]\n",
    "\n",
    "\n"
   ]
  },
  {
   "cell_type": "code",
   "execution_count": 32,
   "metadata": {},
   "outputs": [],
   "source": [
    "def linea(x: float, pars: tuple[float]) -> float:\n",
    "    \"\"\"Ecuación de la recta y = a1 * x + a0.\n",
    "\n",
    "    ## Parameters\n",
    "\n",
    "    ``x``: valor de x.\n",
    "\n",
    "    ``pars``: parámetros de la recta. Deben ser de la forma (a1, a0).\n",
    "\n",
    "    ## Return\n",
    "\n",
    "    ``y``: valor de y.\n",
    "\n",
    "    \"\"\"\n",
    "    a1, a0 = pars\n",
    "    return a1 * x + a0"
   ]
  },
  {
   "cell_type": "code",
   "execution_count": 33,
   "metadata": {},
   "outputs": [
    {
     "name": "stdout",
     "output_type": "stream",
     "text": [
      "[01-11 13:45:29][INFO] Se ajustarán 3 parámetros.\n",
      "[01-11 13:45:29][INFO] \n",
      "[[nan nan nan nan]\n",
      " [nan nan nan nan]\n",
      " [nan nan nan nan]]\n",
      "[01-11 13:45:29][INFO] \n",
      "[[nan nan nan nan]\n",
      " [nan nan nan nan]\n",
      " [nan nan nan nan]]\n",
      "[np.float64(nan), np.float64(nan), np.float64(nan)]\n"
     ]
    }
   ],
   "source": [
    "def der_parcial_0_parabol(xs: list, ys: list) -> tuple[float, float, float]:\n",
    "    \"\"\"Retorna los coeficientes de la ecuación de la derivada parcial con respecto al parámetro 0 al reemplazar los valores ``xs`` y ``ys``. La ecuación es de la forma:\n",
    "    c_2 * a_2 + c_1 * a_1 + c_0 * a_0 = c_ind    ## Parameters\n",
    "\n",
    "    ``xs``: lista de valores de x.\n",
    "\n",
    "    ``ys``: lista de valores de y.\n",
    "\n",
    "    ## Return\n",
    "\n",
    "    ``c_2``: coeficiente del parámetro 2.\n",
    "\n",
    "    ``c_1``: coeficiente del parámetro 1.\n",
    "\n",
    "    ``c_0``: coeficiente del parámetro 0.\n",
    "\n",
    "    ``c_ind``: coeficiente del término independiente.\n",
    "\n",
    "    \"\"\"\n",
    "    # COMPLETAR\n",
    "    pass\n",
    "\n",
    "def der_parcial_1_parabol(xs: list, ys: list) -> tuple[float, float, float]:\n",
    "    \"\"\"Retorna los coeficientes de la ecuación de la derivada parcial con respecto al parámetro 1 al reemplazar los valores ``xs`` y ``ys``. La ecuación es de la forma:\n",
    "    c_2 * a_2 + c_1 * a_1 + c_0 * a_0 = c_ind    ## Parameters\n",
    "\n",
    "    ``xs``: lista de valores de x.\n",
    "\n",
    "    ``ys``: lista de valores de y.\n",
    "\n",
    "    ## Return\n",
    "\n",
    "    ``c_2``: coeficiente del parámetro 2.\n",
    "\n",
    "    ``c_1``: coeficiente del parámetro 1.\n",
    "\n",
    "    ``c_0``: coeficiente del parámetro 0.\n",
    "\n",
    "    ``c_ind``: coeficiente del término independiente.\n",
    "\n",
    "    \"\"\"\n",
    "    # COMPLETAR\n",
    "    pass\n",
    "\n",
    "def der_parcial_2_parabol(xs: list, ys: list) -> tuple[float, float, float]:\n",
    "    \"\"\"Retorna los coeficientes de la ecuación de la derivada parcial con respecto al parámetro 2 al reemplazar los valores ``xs`` y ``ys``. La ecuación es de la forma:    c_2 * a_2 + c_1 * a_1 + c_0 * a_0 = c_ind\n",
    "\n",
    "    ## Parameters\n",
    "    ``xs``: lista de valores de x.\n",
    "    ``ys``: lista de valores de y.\n",
    "    ## Return\n",
    "    ``c_2``: coeficiente del parámetro 2.\n",
    "    ``c_1``: coeficiente del parámetro 1.\n",
    "    ``c_0``: coeficiente del parámetro 0.\n",
    "    ``c_ind``: coeficiente del término independiente.\n",
    "    \"\"\"\n",
    "\n",
    "    # COMPLETAR\n",
    "    pass\n",
    "\n",
    "def cuadratica(x: float, pars: tuple[float]) -> float:\n",
    "    a2, a1, a0 = pars\n",
    "    return a2 * x**2 + a1 * x + a0\n",
    "\n",
    "pars_cuad = ajustar_min_cuadrados(\n",
    "    xs,\n",
    "    ys,\n",
    "    gradiente=[der_parcial_0_parabol, der_parcial_1_parabol, der_parcial_2_parabol],\n",
    ")\n",
    "print(pars_cuad)"
   ]
  },
  {
   "cell_type": "code",
   "execution_count": 28,
   "metadata": {},
   "outputs": [
    {
     "data": {
      "image/png": "[encoded data removed]",
      "text/plain": [
       "<Figure size 640x480 with 1 Axes>"
      ]
     },
     "metadata": {},
     "output_type": "display_data"
    }
   ],
   "source": [
    "plt.scatter(xs1, ys1)\n",
    "plt.xlabel(\"x\")\n",
    "plt.ylabel(\"y\")\n",
    "plt.title(\"Conjunto de datos 1\")\n",
    "plt.show()\n"
   ]
  },
  {
   "cell_type": "markdown",
   "metadata": {},
   "source": [
    "Interpole el conjunto de datos 1 usando la función cuadrática. "
   ]
  },
  {
   "cell_type": "markdown",
   "metadata": {},
   "source": [
    "## Conjunto de datos 2"
   ]
  },
  {
   "cell_type": "code",
   "execution_count": 12,
   "metadata": {},
   "outputs": [],
   "source": [
    "xs2 = [\n",
    "    0.0003,\n",
    "    0.0822,\n",
    "    0.2770,\n",
    "    0.4212,\n",
    "    0.4403,\n",
    "    0.5588,\n",
    "    0.5943,\n",
    "    0.6134,\n",
    "    0.9070,\n",
    "    1.0367,\n",
    "    1.1903,\n",
    "    1.2511,\n",
    "    1.2519,\n",
    "    1.2576,\n",
    "    1.6165,\n",
    "    1.6761,\n",
    "    2.0114,\n",
    "    2.0557,\n",
    "    2.1610,\n",
    "    2.6344,\n",
    "]\n",
    "ys2 = [\n",
    "    1.1017,\n",
    "    1.5021,\n",
    "    0.3844,\n",
    "    1.3251,\n",
    "    1.7206,\n",
    "    1.9453,\n",
    "    0.3894,\n",
    "    0.3328,\n",
    "    1.2887,\n",
    "    3.1239,\n",
    "    2.1778,\n",
    "    3.1078,\n",
    "    4.1856,\n",
    "    3.3640,\n",
    "    6.0330,\n",
    "    5.8088,\n",
    "    10.5890,\n",
    "    11.5865,\n",
    "    11.8221,\n",
    "    26.5077,\n",
    "]"
   ]
  },
  {
   "cell_type": "code",
   "execution_count": 13,
   "metadata": {},
   "outputs": [
    {
     "data": {
      "image/png": "[encoded data removed]",
      "text/plain": [
       "<Figure size 640x480 with 1 Axes>"
      ]
     },
     "metadata": {},
     "output_type": "display_data"
    }
   ],
   "source": [
    "plt.scatter(xs2, ys2)\n",
    "plt.xlabel(\"x\")\n",
    "plt.ylabel(\"y\")\n",
    "plt.title(\"Conjunto de datos 2\")\n",
    "plt.show()"
   ]
  },
  {
   "cell_type": "markdown",
   "metadata": {},
   "source": [
    "Interpole el conjunto de datos 2 usando la función exponencial. "
   ]
  }
 ],
 "metadata": {
  "kernelspec": {
   "display_name": "Python 3",
   "language": "python",
   "name": "python3"
  },
  "language_info": {
   "codemirror_mode": {
    "name": "ipython",
    "version": 3
   },
   "file_extension": ".py",
   "mimetype": "text/x-python",
   "name": "python",
   "nbconvert_exporter": "python",
   "pygments_lexer": "ipython3",
   "version": "3.13.0"
  }
 },
 "nbformat": 4,
 "nbformat_minor": 2
}
