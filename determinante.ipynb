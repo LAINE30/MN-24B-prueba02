{
 "cells": [
  {
   "cell_type": "code",
   "execution_count": 1,
   "metadata": {},
   "outputs": [],
   "source": [
    "%load_ext autoreload"
   ]
  },
  {
   "cell_type": "markdown",
   "metadata": {},
   "source": [
    "# Examen"
   ]
  },
  {
   "cell_type": "markdown",
   "metadata": {},
   "source": [
    "## Determinante"
   ]
  },
  {
   "cell_type": "code",
   "execution_count": 37,
   "metadata": {},
   "outputs": [
    {
     "name": "stdout",
     "output_type": "stream",
     "text": [
      "[01-11 13:54:34][INFO] 2025-01-11 13:54:34.483349\n"
     ]
    }
   ],
   "source": [
    "import numpy as np\n",
    "from src import (\n",
    "    eliminacion_gaussiana,\n",
    "    descomposicion_LU,\n",
    "    resolver_LU,\n",
    "    matriz_aumentada,\n",
    "    separar_m_aumentada,\n",
    ")\n",
    "\n",
    "def calc_determinante(A: list[list[float]]) -> float:\n",
    "    \"\"\"\n",
    "    Calcula el determinante de una matriz cuadrada A usando descomposición LU.\n",
    "\n",
    "    Parameters\n",
    "    ----------\n",
    "    A : list[list[float]]\n",
    "        Matriz cuadrada.\n",
    "\n",
    "    Returns\n",
    "    -------\n",
    "    float\n",
    "        Determinante de la matriz A.\n",
    "\n",
    "    Raises\n",
    "    ------\n",
    "    ValueError\n",
    "        Si la matriz A no es cuadrada o está vacía.\n",
    "    \"\"\"\n",
    "    # Verificar que A sea una matriz válida y cuadrada\n",
    "    if not A or len(A) != len(A[0]):\n",
    "        raise ValueError(\"La matriz A debe ser cuadrada y no estar vacía.\")\n",
    "\n",
    "    # Convertir a una matriz NumPy para operaciones eficientes\n",
    "    A = np.array(A, dtype=float)\n",
    "\n",
    "    # Realizar la descomposición LU con matriz de permutación P\n",
    "    P, L, U = descomposicion_LU(A)\n",
    "\n",
    "    # Determinante de U: Producto de los elementos diagonales\n",
    "    detU = np.prod(np.diag(U))\n",
    "\n",
    "    # Determinante de P: Signo de la permutación\n",
    "    # np.linalg.det(P) puede calcular directamente el determinante de P\n",
    "    detP = np.linalg.det(P)\n",
    "\n",
    "    # Determinante total: Producto de los determinantes de P y U\n",
    "    detA = detP * detU\n",
    "    return detA\n",
    "\n"
   ]
  },
  {
   "cell_type": "markdown",
   "metadata": {},
   "source": [
    "# Ejercicio 1"
   ]
  },
  {
   "cell_type": "code",
   "execution_count": 38,
   "metadata": {},
   "outputs": [
    {
     "name": "stdout",
     "output_type": "stream",
     "text": [
      "El determinante de A1 es 9912776.00\n"
     ]
    }
   ],
   "source": [
    "A1 = [\n",
    "    [-4, 2, -4, -4, 1, 2, 5, 3, 5, 1],\n",
    "    [1, 0, 4, 3, 0, -2, 3, 0, 1, 5],\n",
    "    [5, 5, -4, 5, -4, 2, 2, 2, 4, 4],\n",
    "    [-1, 3, 4, -1, -4, 0, 5, 0, 0, 5],\n",
    "    [4, 1, 4, 2, 0, 0, 3, -1, 0, 2],\n",
    "    [2, -2, 1, -1, -2, -3, 2, -2, 4, -1],\n",
    "    [3, -2, -3, -2, -1, -3, 5, -1, 5, 0],\n",
    "    [3, 4, -3, 3, -2, 2, -4, -4, 1, 5],\n",
    "    [-4, 0, 3, 3, -3, -2, -2, 0, 5, -4],\n",
    "    [-2, 4, 4, -2, -1, 1, 5, -1, 3, -3],\n",
    "]\n",
    "det = calc_determinante(A1)\n",
    "print(f\"El determinante de A1 es {det:.2f}\")\n"
   ]
  },
  {
   "cell_type": "markdown",
   "metadata": {},
   "source": [
    "# Ejercicio 2"
   ]
  },
  {
   "cell_type": "code",
   "execution_count": 39,
   "metadata": {},
   "outputs": [
    {
     "name": "stdout",
     "output_type": "stream",
     "text": [
      "El determinante de A2 es 2341546.00\n"
     ]
    }
   ],
   "source": [
    "A2 = [\n",
    "    [2, 2, 4, 5, -2, -3, 2, -2],\n",
    "    [-1, -1, 3, 2, 1, 1, -4, 4],\n",
    "    [2, 5, -3, -3, -2, 2, 5, 3],\n",
    "    [-2, -4, 0, 1, -1, 5, -4, -1],\n",
    "    [1, -2, -1, 5, 5, 2, 1, -2],\n",
    "    [5, 4, 0, 3, 4, -1, -3, -2],\n",
    "    [4, -4, 1, 2, 3, 3, -1, 3],\n",
    "    [-2, 1, -3, 0, 5, 4, 4, -4],\n",
    "]\n",
    "det = calc_determinante(A2)\n",
    "print(f\"El determinante de A2 es {det:.2f}\")"
   ]
  }
 ],
 "metadata": {
  "kernelspec": {
   "display_name": "Python 3",
   "language": "python",
   "name": "python3"
  },
  "language_info": {
   "codemirror_mode": {
    "name": "ipython",
    "version": 3
   },
   "file_extension": ".py",
   "mimetype": "text/x-python",
   "name": "python",
   "nbconvert_exporter": "python",
   "pygments_lexer": "ipython3",
   "version": "3.13.0"
  }
 },
 "nbformat": 4,
 "nbformat_minor": 2
}
